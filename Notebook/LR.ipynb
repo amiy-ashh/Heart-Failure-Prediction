{
  "nbformat": 4,
  "nbformat_minor": 0,
  "metadata": {
    "colab": {
      "provenance": []
    },
    "kernelspec": {
      "name": "python3",
      "display_name": "Python 3"
    },
    "language_info": {
      "name": "python"
    }
  },
  "cells": [
    {
      "cell_type": "code",
      "execution_count": null,
      "metadata": {
        "id": "_0tVRnn_iuaT"
      },
      "outputs": [],
      "source": [
        "import pandas as pd\n",
        "from matplotlib import pyplot as plt\n",
        "import seaborn as sea\n",
        "from sklearn.model_selection import train_test_split\n",
        "from sklearn.metrics import confusion_matrix,accuracy_score"
      ]
    },
    {
      "cell_type": "code",
      "source": [
        "df=pd.read_csv(\"/content/dataset.csv\")"
      ],
      "metadata": {
        "id": "Av1A6JV_jQ__"
      },
      "execution_count": null,
      "outputs": []
    },
    {
      "cell_type": "code",
      "source": [
        "print(df.head())"
      ],
      "metadata": {
        "colab": {
          "base_uri": "https://localhost:8080/"
        },
        "id": "MUFqY8u9xT8F",
        "outputId": "3b45de17-652d-4833-981f-9bd214416e85"
      },
      "execution_count": null,
      "outputs": [
        {
          "output_type": "stream",
          "name": "stdout",
          "text": [
            "    age  anaemia  creatinine_phosphokinase  diabetes  ejection_fraction  \\\n",
            "0  75.0        0                       582         0                 20   \n",
            "1  55.0        0                      7861         0                 38   \n",
            "2  65.0        0                       146         0                 20   \n",
            "3  50.0        1                       111         0                 20   \n",
            "4  65.0        1                       160         1                 20   \n",
            "\n",
            "   high_blood_pressure  platelets  serum_creatinine  serum_sodium  sex  \\\n",
            "0                    1  265000.00               1.9           130    1   \n",
            "1                    0  263358.03               1.1           136    1   \n",
            "2                    0  162000.00               1.3           129    1   \n",
            "3                    0  210000.00               1.9           137    1   \n",
            "4                    0  327000.00               2.7           116    0   \n",
            "\n",
            "   smoking  time  DEATH_EVENT  \n",
            "0        0     4            1  \n",
            "1        0     6            1  \n",
            "2        1     7            1  \n",
            "3        0     7            1  \n",
            "4        0     8            1  \n"
          ]
        }
      ]
    },
    {
      "cell_type": "code",
      "source": [
        "df.info()"
      ],
      "metadata": {
        "id": "HFmmcngB2kPY",
        "outputId": "bbb9301a-ab95-45aa-9fb4-2a79ad5b8e3f",
        "colab": {
          "base_uri": "https://localhost:8080/"
        }
      },
      "execution_count": null,
      "outputs": [
        {
          "output_type": "stream",
          "name": "stdout",
          "text": [
            "<class 'pandas.core.frame.DataFrame'>\n",
            "RangeIndex: 454 entries, 0 to 453\n",
            "Data columns (total 13 columns):\n",
            " #   Column                    Non-Null Count  Dtype  \n",
            "---  ------                    --------------  -----  \n",
            " 0   age                       454 non-null    float64\n",
            " 1   anaemia                   454 non-null    int64  \n",
            " 2   creatinine_phosphokinase  454 non-null    int64  \n",
            " 3   diabetes                  454 non-null    int64  \n",
            " 4   ejection_fraction         454 non-null    int64  \n",
            " 5   high_blood_pressure       454 non-null    int64  \n",
            " 6   platelets                 454 non-null    float64\n",
            " 7   serum_creatinine          454 non-null    float64\n",
            " 8   serum_sodium              454 non-null    int64  \n",
            " 9   sex                       454 non-null    int64  \n",
            " 10  smoking                   454 non-null    int64  \n",
            " 11  time                      454 non-null    int64  \n",
            " 12  DEATH_EVENT               454 non-null    int64  \n",
            "dtypes: float64(3), int64(10)\n",
            "memory usage: 46.2 KB\n"
          ]
        }
      ]
    },
    {
      "cell_type": "code",
      "source": [
        "df.shape"
      ],
      "metadata": {
        "id": "rQH_Kjx1_D6D",
        "outputId": "6e2f9a5f-2d00-4a37-f11b-1996028c2947",
        "colab": {
          "base_uri": "https://localhost:8080/"
        }
      },
      "execution_count": null,
      "outputs": [
        {
          "output_type": "execute_result",
          "data": {
            "text/plain": [
              "(454, 13)"
            ]
          },
          "metadata": {},
          "execution_count": 15
        }
      ]
    },
    {
      "cell_type": "code",
      "source": [
        "df.describe"
      ],
      "metadata": {
        "colab": {
          "base_uri": "https://localhost:8080/"
        },
        "id": "nIuK-mbI5Qcq",
        "outputId": "a3a29fdd-63bd-4fd7-c65c-eebae80b3eda"
      },
      "execution_count": null,
      "outputs": [
        {
          "output_type": "execute_result",
          "data": {
            "text/plain": [
              "<bound method NDFrame.describe of       age  anaemia  creatinine_phosphokinase  diabetes  ejection_fraction  \\\n",
              "0    75.0        0                       582         0                 20   \n",
              "1    55.0        0                      7861         0                 38   \n",
              "2    65.0        0                       146         0                 20   \n",
              "3    50.0        1                       111         0                 20   \n",
              "4    65.0        1                       160         1                 20   \n",
              "..    ...      ...                       ...       ...                ...   \n",
              "449  75.0        0                       675         1                 60   \n",
              "450  58.0        1                        57         0                 25   \n",
              "451  55.0        1                      2794         0                 35   \n",
              "452  65.0        0                        56         0                 25   \n",
              "453  72.0        0                       211         0                 25   \n",
              "\n",
              "     high_blood_pressure  platelets  serum_creatinine  serum_sodium  sex  \\\n",
              "0                      1  265000.00               1.9           130    1   \n",
              "1                      0  263358.03               1.1           136    1   \n",
              "2                      0  162000.00               1.3           129    1   \n",
              "3                      0  210000.00               1.9           137    1   \n",
              "4                      0  327000.00               2.7           116    0   \n",
              "..                   ...        ...               ...           ...  ...   \n",
              "449                    0  265000.00               1.4           125    0   \n",
              "450                    0  189000.00               1.3           132    1   \n",
              "451                    1  141000.00               1.0           140    1   \n",
              "452                    0  237000.00               5.0           130    0   \n",
              "453                    0  274000.00               1.2           134    0   \n",
              "\n",
              "     smoking  time  DEATH_EVENT  \n",
              "0          0     4            1  \n",
              "1          0     6            1  \n",
              "2          1     7            1  \n",
              "3          0     7            1  \n",
              "4          0     8            1  \n",
              "..       ...   ...          ...  \n",
              "449        0   205            0  \n",
              "450        1   205            0  \n",
              "451        0   206            0  \n",
              "452        0   207            0  \n",
              "453        0   207            0  \n",
              "\n",
              "[454 rows x 13 columns]>"
            ]
          },
          "metadata": {},
          "execution_count": 14
        }
      ]
    },
    {
      "cell_type": "code",
      "source": [
        "df.isnull().sum()"
      ],
      "metadata": {
        "colab": {
          "base_uri": "https://localhost:8080/"
        },
        "id": "2_a1BGdE5p1y",
        "outputId": "0e36c265-4991-4944-d35a-6f7e0cef83ff"
      },
      "execution_count": null,
      "outputs": [
        {
          "output_type": "execute_result",
          "data": {
            "text/plain": [
              "age                         0\n",
              "anaemia                     0\n",
              "creatinine_phosphokinase    0\n",
              "diabetes                    0\n",
              "ejection_fraction           0\n",
              "high_blood_pressure         0\n",
              "platelets                   0\n",
              "serum_creatinine            0\n",
              "serum_sodium                0\n",
              "sex                         0\n",
              "smoking                     0\n",
              "time                        0\n",
              "DEATH_EVENT                 0\n",
              "dtype: int64"
            ]
          },
          "metadata": {},
          "execution_count": 17
        }
      ]
    },
    {
      "cell_type": "code",
      "source": [
        "# building model\n",
        "x=df.drop([\"DEATH_EVENT\"],axis=1)\n",
        "y=df[\"DEATH_EVENT\"]"
      ],
      "metadata": {
        "id": "Ly2Ldctrj3FV"
      },
      "execution_count": null,
      "outputs": []
    },
    {
      "cell_type": "code",
      "source": [
        "#_____Split 1 train and test_____\n",
        "x_train,x_test,y_train,y_test=train_test_split(x,y,test_size=0.3,random_state=171)"
      ],
      "metadata": {
        "id": "yZjIMXkxrlM_"
      },
      "execution_count": null,
      "outputs": []
    },
    {
      "cell_type": "code",
      "source": [
        "#_____Applying Logistic Regression_____\n",
        "from sklearn.linear_model import LogisticRegression\n",
        "lr=LogisticRegression(C=0.4,max_iter=1000,solver='liblinear')\n",
        "lr.fit(x_train,y_train)\n",
        "#prediction\n",
        "y_pred=lr.predict(x_test)\n",
        "#accuracy\n",
        "accuracy_lr1=accuracy_score(y_test,y_pred)\n",
        "confusion_matrix_lr1=confusion_matrix(y_test,y_pred)\n",
        "print(\"Logistic Regression Split 1: \",accuracy_lr1)\n",
        "print(\"Logistic Regression Split 1: \",confusion_matrix_lr1)"
      ],
      "metadata": {
        "id": "YGDwXZcgkyU3",
        "colab": {
          "base_uri": "https://localhost:8080/"
        },
        "outputId": "18668125-57d1-4d32-aef5-4fe9cf6220d9"
      },
      "execution_count": null,
      "outputs": [
        {
          "output_type": "stream",
          "name": "stdout",
          "text": [
            "Logistic Regression Split 1:  0.8248175182481752\n",
            "Logistic Regression Split 1:  [[86  6]\n",
            " [18 27]]\n"
          ]
        }
      ]
    },
    {
      "cell_type": "code",
      "source": [
        "#_____Split 2 train and test_____\n",
        "x_train,x_test,y_train,y_test=train_test_split(x,y,test_size=0.25,random_state=171)"
      ],
      "metadata": {
        "id": "UjU2t3ioAEhB"
      },
      "execution_count": null,
      "outputs": []
    },
    {
      "cell_type": "code",
      "source": [
        "#_____Applying Logistic Regression_____\n",
        "from sklearn.linear_model import LogisticRegression\n",
        "lr=LogisticRegression(C=0.4,max_iter=1000,solver='liblinear')\n",
        "lr.fit(x_train,y_train)\n",
        "#prediction\n",
        "y_pred=lr.predict(x_test)\n",
        "#accuracy\n",
        "accuracy_lr2=accuracy_score(y_test,y_pred)\n",
        "confusion_matrix_lr2=confusion_matrix(y_test,y_pred)\n",
        "print(\"Logistic Regression Split 2: \",accuracy_lr2)\n",
        "print(\"Logistic Regression Split 2: \",confusion_matrix_lr2)"
      ],
      "metadata": {
        "colab": {
          "base_uri": "https://localhost:8080/"
        },
        "id": "vyldueOc_9km",
        "outputId": "aabfef2a-94d1-4a73-ede8-684734df827c"
      },
      "execution_count": null,
      "outputs": [
        {
          "output_type": "stream",
          "name": "stdout",
          "text": [
            "Logistic Regression Split 2:  0.8070175438596491\n",
            "Logistic Regression Split 2:  [[71  5]\n",
            " [17 21]]\n"
          ]
        }
      ]
    },
    {
      "cell_type": "code",
      "source": [
        "#_____Split 3 train and test_____\n",
        "x_train,x_test,y_train,y_test=train_test_split(x,y,test_size=0.2,random_state=171)"
      ],
      "metadata": {
        "id": "qAbOs8IyAKz0"
      },
      "execution_count": null,
      "outputs": []
    },
    {
      "cell_type": "code",
      "source": [
        "#_____Applying Logistic Regression_____\n",
        "from sklearn.linear_model import LogisticRegression\n",
        "lr=LogisticRegression(C=0.4,max_iter=1000,solver='liblinear')\n",
        "lr.fit(x_train,y_train)\n",
        "#prediction\n",
        "y_pred=lr.predict(x_test)\n",
        "#accuracy\n",
        "accuracy_lr3=accuracy_score(y_test,y_pred)\n",
        "confusion_matrix_lr3=confusion_matrix(y_test,y_pred)\n",
        "print(\"Logistic Regression Split 3: \",accuracy_lr3)\n",
        "print(\"Logistic Regression Split 3: \",confusion_matrix_lr3)"
      ],
      "metadata": {
        "colab": {
          "base_uri": "https://localhost:8080/"
        },
        "id": "-yrTSY4KAOSh",
        "outputId": "edb990b6-e15f-4666-f410-64ee9bcd4de3"
      },
      "execution_count": null,
      "outputs": [
        {
          "output_type": "stream",
          "name": "stdout",
          "text": [
            "Logistic Regression Split 3:  0.8241758241758241\n",
            "Logistic Regression Split 3:  [[60  4]\n",
            " [12 15]]\n"
          ]
        }
      ]
    },
    {
      "cell_type": "code",
      "source": [
        "l1=['S1','S2','S3']\n",
        "l2=[accuracy_lr1,accuracy_lr2,accuracy_lr3]\n",
        "l3=[confusion_matrix_lr1,confusion_matrix_lr2,confusion_matrix_lr3]\n",
        "\n",
        "accuracy_barPlot=pd.DataFrame({\"Method Used\":l1,\"Accuracy Score\":l2,\"Confusion Matrix\":l3})\n",
        "print(accuracy_barPlot)"
      ],
      "metadata": {
        "colab": {
          "base_uri": "https://localhost:8080/"
        },
        "id": "jJb2Nj2fAWF3",
        "outputId": "997f43b4-5a29-42f7-ab63-bc5d3681e10f"
      },
      "execution_count": null,
      "outputs": [
        {
          "output_type": "stream",
          "name": "stdout",
          "text": [
            "  Method Used  Accuracy Score     Confusion Matrix\n",
            "0          S1        0.824818  [[86, 6], [18, 27]]\n",
            "1          S2        0.807018  [[71, 5], [17, 21]]\n",
            "2          S3        0.824176  [[60, 4], [12, 15]]\n"
          ]
        }
      ]
    }
  ]
}