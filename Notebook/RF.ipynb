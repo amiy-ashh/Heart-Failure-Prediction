{
  "cells": [
    {
      "cell_type": "code",
      "execution_count": null,
      "metadata": {
        "id": "IZdSZZbyvt1g"
      },
      "outputs": [],
      "source": [
        "import pandas as pd\n",
        "from matplotlib import pyplot as plt\n",
        "import seaborn as sea\n",
        "from sklearn.model_selection import train_test_split\n",
        "from sklearn.metrics import confusion_matrix,accuracy_score"
      ]
    },
    {
      "cell_type": "code",
      "execution_count": null,
      "metadata": {
        "id": "yvM5VzzkvxfV"
      },
      "outputs": [],
      "source": [
        "#df dataframe\n",
        "df=pd.read_csv(\"/content/dataset.csv\")"
      ]
    },
    {
      "cell_type": "code",
      "execution_count": null,
      "metadata": {
        "id": "aH_xBicVwRKi"
      },
      "outputs": [],
      "source": [
        "# building model\n",
        "x=df.drop([\"DEATH_EVENT\"],axis=1)\n",
        "y=df[\"DEATH_EVENT\"]"
      ]
    },
    {
      "cell_type": "code",
      "execution_count": null,
      "metadata": {
        "id": "dKYGKGSPwTx-"
      },
      "outputs": [],
      "source": [
        "#_____Split 1 train and test_____\n",
        "x_train,x_test,y_train,y_test=train_test_split(x,y,test_size=0.25,random_state=171)"
      ]
    },
    {
      "cell_type": "code",
      "execution_count": null,
      "metadata": {
        "colab": {
          "base_uri": "https://localhost:8080/"
        },
        "id": "azbOvrjEwqyk",
        "outputId": "3f2b238f-3114-4f15-b73c-36423fb9fa8f"
      },
      "outputs": [
        {
          "output_type": "stream",
          "name": "stdout",
          "text": [
            "Random Forest Classifier Split 1:  0.9736842105263158\n",
            "Random Forest Classifier Split 1:  [[75  1]\n",
            " [ 2 36]]\n"
          ]
        }
      ],
      "source": [
        "#_____Applying RandomForest_____\n",
        "from sklearn.ensemble import RandomForestClassifier\n",
        "rf=RandomForestClassifier(random_state=45)\n",
        "#fit with x_train and y_train\n",
        "rf.fit(x_train,y_train)\n",
        "#prediction\n",
        "y_pred=rf.predict(x_test)\n",
        "#accuracy\n",
        "accuracy_rf1=accuracy_score(y_test,y_pred)\n",
        "confusion_matrix_rf1=confusion_matrix(y_test,y_pred)\n",
        "#print classification report\n",
        "print(\"Random Forest Classifier Split 1: \",accuracy_rf1)\n",
        "print(\"Random Forest Classifier Split 1: \",confusion_matrix_rf1)"
      ]
    },
    {
      "cell_type": "code",
      "execution_count": null,
      "metadata": {
        "id": "1IXv_CCgzlbt"
      },
      "outputs": [],
      "source": [
        "#_____Split 2 train and test_____\n",
        "x_train,x_test,y_train,y_test=train_test_split(x,y,test_size=0.2,random_state=171)"
      ]
    },
    {
      "cell_type": "code",
      "execution_count": null,
      "metadata": {
        "colab": {
          "base_uri": "https://localhost:8080/"
        },
        "id": "a_7qCnYwzrtJ",
        "outputId": "2104df9d-0f0c-4ce5-988e-eaba7b15abfe"
      },
      "outputs": [
        {
          "output_type": "stream",
          "name": "stdout",
          "text": [
            "Random Forest Classifier Split 2:  0.967032967032967\n",
            "Random Forest Classifier Split 2:  [[62  2]\n",
            " [ 1 26]]\n"
          ]
        }
      ],
      "source": [
        "#_____Applying RandomForest_____\n",
        "from sklearn.ensemble import RandomForestClassifier\n",
        "rf=RandomForestClassifier(random_state=45)\n",
        "#fit with x_train and y_train\n",
        "rf.fit(x_train,y_train)\n",
        "#prediction\n",
        "y_pred=rf.predict(x_test)\n",
        "#accuracy\n",
        "accuracy_rf2=accuracy_score(y_test,y_pred)\n",
        "confusion_matrix_rf2=confusion_matrix(y_test,y_pred)\n",
        "#print classification report\n",
        "print(\"Random Forest Classifier Split 2: \",accuracy_rf2)\n",
        "print(\"Random Forest Classifier Split 2: \",confusion_matrix_rf2)"
      ]
    },
    {
      "cell_type": "code",
      "execution_count": null,
      "metadata": {
        "id": "bKlT05UKzsTq"
      },
      "outputs": [],
      "source": [
        "#_____Split 3 train and test_____\n",
        "x_train,x_test,y_train,y_test=train_test_split(x,y,test_size=0.3,random_state=171)"
      ]
    },
    {
      "cell_type": "code",
      "execution_count": null,
      "metadata": {
        "colab": {
          "base_uri": "https://localhost:8080/"
        },
        "id": "fGIaxpBgztDO",
        "outputId": "ab814ca9-0e8c-42ca-8553-47fad4502b37"
      },
      "outputs": [
        {
          "output_type": "stream",
          "name": "stdout",
          "text": [
            "Random Forest Classifier Split 3:  0.9635036496350365\n",
            "Random Forest Classifier Split 3:  [[91  1]\n",
            " [ 4 41]]\n"
          ]
        }
      ],
      "source": [
        "#_____Applying RandomForest_____\n",
        "from sklearn.ensemble import RandomForestClassifier\n",
        "rf=RandomForestClassifier()\n",
        "rf.fit(x_train,y_train)\n",
        "#prediction\n",
        "y_pred=rf.predict(x_test)\n",
        "#accuracy\n",
        "accuracy_rf3=accuracy_score(y_test,y_pred)\n",
        "confusion_matrix_rf3=confusion_matrix(y_test,y_pred)\n",
        "#print classification report\n",
        "print(\"Random Forest Classifier Split 3: \",accuracy_rf3)\n",
        "print(\"Random Forest Classifier Split 3: \",confusion_matrix_rf3)"
      ]
    },
    {
      "cell_type": "code",
      "execution_count": null,
      "metadata": {
        "colab": {
          "base_uri": "https://localhost:8080/"
        },
        "id": "2Y-QgrbN-tvF",
        "outputId": "7deaccac-02da-49b2-a90e-e0223faec8ce"
      },
      "outputs": [
        {
          "output_type": "stream",
          "name": "stdout",
          "text": [
            "  Method Used  Accuracy Score    Confusion Matrix\n",
            "0          S1        0.973684  [[75, 1], [2, 36]]\n",
            "1          S2        0.967033  [[62, 2], [1, 26]]\n",
            "2          S3        0.963504  [[91, 1], [4, 41]]\n"
          ]
        }
      ],
      "source": [
        "l1=['S1','S2','S3']\n",
        "l2=[accuracy_rf1,accuracy_rf2,accuracy_rf3]\n",
        "l3=[confusion_matrix_rf1,confusion_matrix_rf2,confusion_matrix_rf3]\n",
        "\n",
        "accuracy_barPlot=pd.DataFrame({\"Method Used\":l1,\"Accuracy Score\":l2,\"Confusion Matrix\":l3})\n",
        "print(accuracy_barPlot,)"
      ]
    }
  ],
  "metadata": {
    "colab": {
      "provenance": []
    },
    "kernelspec": {
      "display_name": "Python 3",
      "name": "python3"
    },
    "language_info": {
      "name": "python"
    }
  },
  "nbformat": 4,
  "nbformat_minor": 0
}