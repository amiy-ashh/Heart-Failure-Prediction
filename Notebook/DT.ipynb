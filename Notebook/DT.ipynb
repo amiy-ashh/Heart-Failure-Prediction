{
  "nbformat": 4,
  "nbformat_minor": 0,
  "metadata": {
    "colab": {
      "provenance": []
    },
    "kernelspec": {
      "name": "python3",
      "display_name": "Python 3"
    },
    "language_info": {
      "name": "python"
    }
  },
  "cells": [
    {
      "cell_type": "code",
      "execution_count": null,
      "metadata": {
        "id": "OnihUetYw8SP"
      },
      "outputs": [],
      "source": [
        "import pandas as pd\n",
        "from matplotlib import pyplot as plt\n",
        "import seaborn as sea\n",
        "from sklearn.model_selection import train_test_split\n",
        "from sklearn.metrics import confusion_matrix,accuracy_score"
      ]
    },
    {
      "cell_type": "code",
      "source": [
        "df=pd.read_csv(\"/content/dataset.csv\")"
      ],
      "metadata": {
        "id": "h-mQLyHvxmpF"
      },
      "execution_count": null,
      "outputs": []
    },
    {
      "cell_type": "code",
      "source": [
        "# building model\n",
        "x=df.drop([\"DEATH_EVENT\"],axis=1)\n",
        "y=df[\"DEATH_EVENT\"]"
      ],
      "metadata": {
        "id": "uSZoY9wzxvVT"
      },
      "execution_count": null,
      "outputs": []
    },
    {
      "cell_type": "code",
      "source": [
        "#_____Split 1 train and test_____\n",
        "x_train,x_test,y_train,y_test=train_test_split(x,y,test_size=0.25,random_state=171)"
      ],
      "metadata": {
        "id": "SDoCHahWx24A"
      },
      "execution_count": null,
      "outputs": []
    },
    {
      "cell_type": "code",
      "source": [
        "#_____Applying Decision Tree_____\n",
        "from sklearn.tree import DecisionTreeClassifier\n",
        "dt=DecisionTreeClassifier()\n",
        "dt.fit(x_train,y_train)\n",
        "#prediction\n",
        "y_pred=dt.predict(x_test)\n",
        "#accuracy\n",
        "accuracy_dt1=accuracy_score(y_test,y_pred)\n",
        "confusion_matrix_dt1=confusion_matrix(y_test,y_pred)\n",
        "print(\"Decision Tree Classifier Split 1: \",accuracy_dt1)\n",
        "print(\"Decision Tree Classifier Split 1: \",confusion_matrix_dt1)"
      ],
      "metadata": {
        "id": "IG4YYDjnx61g",
        "colab": {
          "base_uri": "https://localhost:8080/"
        },
        "outputId": "18be4a75-7e6f-4140-9047-a316c2280c14"
      },
      "execution_count": null,
      "outputs": [
        {
          "output_type": "stream",
          "name": "stdout",
          "text": [
            "Decision Tree Classifier Split 1:  0.9210526315789473\n",
            "Decision Tree Classifier Split 1:  [[72  4]\n",
            " [ 5 33]]\n"
          ]
        }
      ]
    },
    {
      "cell_type": "code",
      "source": [
        "#_____Split 2 train and test_____\n",
        "x_train,x_test,y_train,y_test=train_test_split(x,y,test_size=0.2,random_state=171)"
      ],
      "metadata": {
        "id": "aCNUfe9KyRbA"
      },
      "execution_count": null,
      "outputs": []
    },
    {
      "cell_type": "code",
      "source": [
        "#_____Applying Decision Tree_____\n",
        "from sklearn.tree import DecisionTreeClassifier\n",
        "dt=DecisionTreeClassifier()\n",
        "dt.fit(x_train,y_train)\n",
        "#prediction\n",
        "y_pred=dt.predict(x_test)\n",
        "#accuracy\n",
        "accuracy_dt2=accuracy_score(y_test,y_pred)\n",
        "confusion_matrix_dt2=confusion_matrix(y_test,y_pred)\n",
        "print(\"Decision Tree Classifier Split 2: \",accuracy_dt2)\n",
        "print(\"Decision Tree Classifier Split 2: \",confusion_matrix_dt2)"
      ],
      "metadata": {
        "colab": {
          "base_uri": "https://localhost:8080/"
        },
        "id": "qvF-ra5wyQAm",
        "outputId": "2cdcdeae-8ca1-4377-d3d7-a1e0734163a1"
      },
      "execution_count": null,
      "outputs": [
        {
          "output_type": "stream",
          "name": "stdout",
          "text": [
            "Decision Tree Classifier Split 2:  0.945054945054945\n",
            "Decision Tree Classifier Split 2:  [[61  3]\n",
            " [ 2 25]]\n"
          ]
        }
      ]
    },
    {
      "cell_type": "code",
      "source": [
        "#_____Split 3 train and test_____\n",
        "x_train,x_test,y_train,y_test=train_test_split(x,y,test_size=0.3,random_state=171)"
      ],
      "metadata": {
        "id": "E0_8l5U5ynpo"
      },
      "execution_count": null,
      "outputs": []
    },
    {
      "cell_type": "code",
      "source": [
        "#_____Applying Decision Tree_____\n",
        "from sklearn.tree import DecisionTreeClassifier\n",
        "dt=DecisionTreeClassifier()\n",
        "dt.fit(x_train,y_train)\n",
        "#prediction\n",
        "y_pred=dt.predict(x_test)\n",
        "#accuracy\n",
        "accuracy_dt3=accuracy_score(y_test,y_pred)\n",
        "confusion_matrix_dt3=confusion_matrix(y_test,y_pred)\n",
        "print(\"Decision Tree Classifier Split 3: \",accuracy_dt3)\n",
        "print(\"Decision Tree Classifier Split 3: \",confusion_matrix_dt3)"
      ],
      "metadata": {
        "colab": {
          "base_uri": "https://localhost:8080/"
        },
        "id": "L9g1vK-hyraI",
        "outputId": "590058ba-2142-4c4c-e106-78b89162644c"
      },
      "execution_count": null,
      "outputs": [
        {
          "output_type": "stream",
          "name": "stdout",
          "text": [
            "Decision Tree Classifier Split 3:  0.8759124087591241\n",
            "Decision Tree Classifier Split 3:  [[87  5]\n",
            " [12 33]]\n"
          ]
        }
      ]
    },
    {
      "cell_type": "code",
      "source": [
        "l1=['S1','S2','S3']\n",
        "l2=[accuracy_dt1,accuracy_dt2,accuracy_dt3]\n",
        "l3=[confusion_matrix_dt1,confusion_matrix_dt2,confusion_matrix_dt3]\n",
        "\n",
        "accuracy_barPlot=pd.DataFrame({\"Method Used\":l1,\"Accuracy Score\":l2,\"Confusion Matrix\":l3})\n",
        "print(accuracy_barPlot)"
      ],
      "metadata": {
        "colab": {
          "base_uri": "https://localhost:8080/"
        },
        "id": "bJhmJZWNy1iC",
        "outputId": "e31852c3-34d3-4055-bbd7-974096af7f93"
      },
      "execution_count": null,
      "outputs": [
        {
          "output_type": "stream",
          "name": "stdout",
          "text": [
            "  Method Used  Accuracy Score     Confusion Matrix\n",
            "0          S1        0.921053   [[72, 4], [5, 33]]\n",
            "1          S2        0.945055   [[61, 3], [2, 25]]\n",
            "2          S3        0.875912  [[87, 5], [12, 33]]\n"
          ]
        }
      ]
    }
  ]
}